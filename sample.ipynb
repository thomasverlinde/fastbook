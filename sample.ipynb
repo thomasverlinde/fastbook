{
 "cells": [
  {
   "cell_type": "markdown",
   "id": "8f527a51-11d5-4712-afb3-f3d87877a09b",
   "metadata": {},
   "source": [
    "#Title one"
   ]
  },
  {
   "cell_type": "markdown",
   "id": "47f0f55a-6b8e-4643-84f3-9c209857f1ca",
   "metadata": {},
   "source": [
    "# Title one"
   ]
  },
  {
   "cell_type": "markdown",
   "id": "4b74eb36-5b0f-4f14-b89a-01afb1caa1ed",
   "metadata": {},
   "source": [
    "## Title two"
   ]
  },
  {
   "cell_type": "markdown",
   "id": "d8051c67-6c75-490c-a763-d881316c2249",
   "metadata": {},
   "source": [
    "### Title three"
   ]
  },
  {
   "cell_type": "code",
   "execution_count": null,
   "id": "bd8778a9-6b70-40ce-bc43-8515204d8687",
   "metadata": {},
   "outputs": [],
   "source": []
  },
  {
   "cell_type": "markdown",
   "id": "65aba204-51b5-41a9-a617-af5a7d254916",
   "metadata": {},
   "source": [
    "Here is how i Calculate '1+1'"
   ]
  },
  {
   "cell_type": "code",
   "execution_count": 1,
   "id": "ab49f56e-7d81-446a-b953-09d798186f06",
   "metadata": {},
   "outputs": [],
   "source": [
    "from numpy import *"
   ]
  },
  {
   "cell_type": "code",
   "execution_count": null,
   "id": "c29c391f-9bdd-4035-b4bb-1c40b6e37310",
   "metadata": {},
   "outputs": [],
   "source": []
  }
 ],
 "metadata": {
  "kernelspec": {
   "display_name": "Python 3 (ipykernel)",
   "language": "python",
   "name": "python3"
  },
  "language_info": {
   "codemirror_mode": {
    "name": "ipython",
    "version": 3
   },
   "file_extension": ".py",
   "mimetype": "text/x-python",
   "name": "python",
   "nbconvert_exporter": "python",
   "pygments_lexer": "ipython3",
   "version": "3.10.10"
  }
 },
 "nbformat": 4,
 "nbformat_minor": 5
}
